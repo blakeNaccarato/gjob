{
 "cells": [
  {
   "cell_type": "code",
   "execution_count": null,
   "id": "d9739caa",
   "metadata": {
    "tags": [
     "parameters"
    ]
   },
   "outputs": [],
   "source": [
    "from devtools import pprint\n",
    "from gjob_pipeline.stages.example import Example as Params\n",
    "\n",
    "PARAMS = None\n",
    "\"\"\"Notebook stage parameters.\"\"\"\n",
    "Params.hide()"
   ]
  },
  {
   "cell_type": "code",
   "execution_count": null,
   "id": "9512f884",
   "metadata": {},
   "outputs": [],
   "source": [
    "params = Params.model_validate_json(PARAMS) if isinstance(PARAMS, str) else Params()  # pyright: ignore[reportUnnecessaryIsInstance]\n",
    "pprint(params)"
   ]
  },
  {
   "cell_type": "code",
   "execution_count": null,
   "id": "b0d91a07",
   "metadata": {},
   "outputs": [],
   "source": [
    "message = (params.deps.example / \"example.txt\").read_text(encoding=\"utf-8\")\n",
    "(params.outs.example_out / \"example_out.txt\").write_text(encoding=\"utf-8\", data=message)\n",
    "print(message)"
   ]
  }
 ],
 "metadata": {
  "kernelspec": {
   "display_name": "gjob (3.11.10)",
   "language": "python",
   "name": "python3"
  },
  "language_info": {
   "codemirror_mode": {
    "name": "ipython",
    "version": 3
   },
   "file_extension": ".py",
   "mimetype": "text/x-python",
   "name": "python",
   "nbconvert_exporter": "python",
   "pygments_lexer": "ipython3",
   "version": "3.11.10"
  }
 },
 "nbformat": 4,
 "nbformat_minor": 5
}
